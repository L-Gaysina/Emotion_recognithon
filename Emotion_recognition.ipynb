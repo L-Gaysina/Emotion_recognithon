{
  "nbformat": 4,
  "nbformat_minor": 0,
  "metadata": {
    "colab": {
      "provenance": [],
      "gpuType": "T4",
      "include_colab_link": true
    },
    "kernelspec": {
      "name": "python3",
      "display_name": "Python 3"
    },
    "language_info": {
      "name": "python"
    },
    "accelerator": "GPU",
    "widgets": {
      "application/vnd.jupyter.widget-state+json": {
        "cdb28b711e0a4b42be16d49d9659d234": {
          "model_module": "@jupyter-widgets/controls",
          "model_name": "HBoxModel",
          "model_module_version": "1.5.0",
          "state": {
            "_dom_classes": [],
            "_model_module": "@jupyter-widgets/controls",
            "_model_module_version": "1.5.0",
            "_model_name": "HBoxModel",
            "_view_count": null,
            "_view_module": "@jupyter-widgets/controls",
            "_view_module_version": "1.5.0",
            "_view_name": "HBoxView",
            "box_style": "",
            "children": [
              "IPY_MODEL_386a15c3230742d88775ab7ed2d23003",
              "IPY_MODEL_0b8cf47d9d4343bf91dd67e0354ffd2a",
              "IPY_MODEL_24104fecd5ed410da4cd3792f4fefa80"
            ],
            "layout": "IPY_MODEL_53edbbb71acb4ecfb3b9da2714f28eae"
          }
        },
        "386a15c3230742d88775ab7ed2d23003": {
          "model_module": "@jupyter-widgets/controls",
          "model_name": "HTMLModel",
          "model_module_version": "1.5.0",
          "state": {
            "_dom_classes": [],
            "_model_module": "@jupyter-widgets/controls",
            "_model_module_version": "1.5.0",
            "_model_name": "HTMLModel",
            "_view_count": null,
            "_view_module": "@jupyter-widgets/controls",
            "_view_module_version": "1.5.0",
            "_view_name": "HTMLView",
            "description": "",
            "description_tooltip": null,
            "layout": "IPY_MODEL_541dc9d055f247c4b9b07e3f18c6dbad",
            "placeholder": "​",
            "style": "IPY_MODEL_58e1314109b443688ddac841f337f921",
            "value": "preprocessor_config.json: 100%"
          }
        },
        "0b8cf47d9d4343bf91dd67e0354ffd2a": {
          "model_module": "@jupyter-widgets/controls",
          "model_name": "FloatProgressModel",
          "model_module_version": "1.5.0",
          "state": {
            "_dom_classes": [],
            "_model_module": "@jupyter-widgets/controls",
            "_model_module_version": "1.5.0",
            "_model_name": "FloatProgressModel",
            "_view_count": null,
            "_view_module": "@jupyter-widgets/controls",
            "_view_module_version": "1.5.0",
            "_view_name": "ProgressView",
            "bar_style": "success",
            "description": "",
            "description_tooltip": null,
            "layout": "IPY_MODEL_bea2035fbc944f049bdef470c0ffa51d",
            "max": 212,
            "min": 0,
            "orientation": "horizontal",
            "style": "IPY_MODEL_5ffcd0b595d44e66b9782e2013eaac02",
            "value": 212
          }
        },
        "24104fecd5ed410da4cd3792f4fefa80": {
          "model_module": "@jupyter-widgets/controls",
          "model_name": "HTMLModel",
          "model_module_version": "1.5.0",
          "state": {
            "_dom_classes": [],
            "_model_module": "@jupyter-widgets/controls",
            "_model_module_version": "1.5.0",
            "_model_name": "HTMLModel",
            "_view_count": null,
            "_view_module": "@jupyter-widgets/controls",
            "_view_module_version": "1.5.0",
            "_view_name": "HTMLView",
            "description": "",
            "description_tooltip": null,
            "layout": "IPY_MODEL_3ef4956285eb4f45a91347b497eee630",
            "placeholder": "​",
            "style": "IPY_MODEL_6b5a50db55564f23afc517b5647d4c0c",
            "value": " 212/212 [00:00&lt;00:00, 11.9kB/s]"
          }
        },
        "53edbbb71acb4ecfb3b9da2714f28eae": {
          "model_module": "@jupyter-widgets/base",
          "model_name": "LayoutModel",
          "model_module_version": "1.2.0",
          "state": {
            "_model_module": "@jupyter-widgets/base",
            "_model_module_version": "1.2.0",
            "_model_name": "LayoutModel",
            "_view_count": null,
            "_view_module": "@jupyter-widgets/base",
            "_view_module_version": "1.2.0",
            "_view_name": "LayoutView",
            "align_content": null,
            "align_items": null,
            "align_self": null,
            "border": null,
            "bottom": null,
            "display": null,
            "flex": null,
            "flex_flow": null,
            "grid_area": null,
            "grid_auto_columns": null,
            "grid_auto_flow": null,
            "grid_auto_rows": null,
            "grid_column": null,
            "grid_gap": null,
            "grid_row": null,
            "grid_template_areas": null,
            "grid_template_columns": null,
            "grid_template_rows": null,
            "height": null,
            "justify_content": null,
            "justify_items": null,
            "left": null,
            "margin": null,
            "max_height": null,
            "max_width": null,
            "min_height": null,
            "min_width": null,
            "object_fit": null,
            "object_position": null,
            "order": null,
            "overflow": null,
            "overflow_x": null,
            "overflow_y": null,
            "padding": null,
            "right": null,
            "top": null,
            "visibility": null,
            "width": null
          }
        },
        "541dc9d055f247c4b9b07e3f18c6dbad": {
          "model_module": "@jupyter-widgets/base",
          "model_name": "LayoutModel",
          "model_module_version": "1.2.0",
          "state": {
            "_model_module": "@jupyter-widgets/base",
            "_model_module_version": "1.2.0",
            "_model_name": "LayoutModel",
            "_view_count": null,
            "_view_module": "@jupyter-widgets/base",
            "_view_module_version": "1.2.0",
            "_view_name": "LayoutView",
            "align_content": null,
            "align_items": null,
            "align_self": null,
            "border": null,
            "bottom": null,
            "display": null,
            "flex": null,
            "flex_flow": null,
            "grid_area": null,
            "grid_auto_columns": null,
            "grid_auto_flow": null,
            "grid_auto_rows": null,
            "grid_column": null,
            "grid_gap": null,
            "grid_row": null,
            "grid_template_areas": null,
            "grid_template_columns": null,
            "grid_template_rows": null,
            "height": null,
            "justify_content": null,
            "justify_items": null,
            "left": null,
            "margin": null,
            "max_height": null,
            "max_width": null,
            "min_height": null,
            "min_width": null,
            "object_fit": null,
            "object_position": null,
            "order": null,
            "overflow": null,
            "overflow_x": null,
            "overflow_y": null,
            "padding": null,
            "right": null,
            "top": null,
            "visibility": null,
            "width": null
          }
        },
        "58e1314109b443688ddac841f337f921": {
          "model_module": "@jupyter-widgets/controls",
          "model_name": "DescriptionStyleModel",
          "model_module_version": "1.5.0",
          "state": {
            "_model_module": "@jupyter-widgets/controls",
            "_model_module_version": "1.5.0",
            "_model_name": "DescriptionStyleModel",
            "_view_count": null,
            "_view_module": "@jupyter-widgets/base",
            "_view_module_version": "1.2.0",
            "_view_name": "StyleView",
            "description_width": ""
          }
        },
        "bea2035fbc944f049bdef470c0ffa51d": {
          "model_module": "@jupyter-widgets/base",
          "model_name": "LayoutModel",
          "model_module_version": "1.2.0",
          "state": {
            "_model_module": "@jupyter-widgets/base",
            "_model_module_version": "1.2.0",
            "_model_name": "LayoutModel",
            "_view_count": null,
            "_view_module": "@jupyter-widgets/base",
            "_view_module_version": "1.2.0",
            "_view_name": "LayoutView",
            "align_content": null,
            "align_items": null,
            "align_self": null,
            "border": null,
            "bottom": null,
            "display": null,
            "flex": null,
            "flex_flow": null,
            "grid_area": null,
            "grid_auto_columns": null,
            "grid_auto_flow": null,
            "grid_auto_rows": null,
            "grid_column": null,
            "grid_gap": null,
            "grid_row": null,
            "grid_template_areas": null,
            "grid_template_columns": null,
            "grid_template_rows": null,
            "height": null,
            "justify_content": null,
            "justify_items": null,
            "left": null,
            "margin": null,
            "max_height": null,
            "max_width": null,
            "min_height": null,
            "min_width": null,
            "object_fit": null,
            "object_position": null,
            "order": null,
            "overflow": null,
            "overflow_x": null,
            "overflow_y": null,
            "padding": null,
            "right": null,
            "top": null,
            "visibility": null,
            "width": null
          }
        },
        "5ffcd0b595d44e66b9782e2013eaac02": {
          "model_module": "@jupyter-widgets/controls",
          "model_name": "ProgressStyleModel",
          "model_module_version": "1.5.0",
          "state": {
            "_model_module": "@jupyter-widgets/controls",
            "_model_module_version": "1.5.0",
            "_model_name": "ProgressStyleModel",
            "_view_count": null,
            "_view_module": "@jupyter-widgets/base",
            "_view_module_version": "1.2.0",
            "_view_name": "StyleView",
            "bar_color": null,
            "description_width": ""
          }
        },
        "3ef4956285eb4f45a91347b497eee630": {
          "model_module": "@jupyter-widgets/base",
          "model_name": "LayoutModel",
          "model_module_version": "1.2.0",
          "state": {
            "_model_module": "@jupyter-widgets/base",
            "_model_module_version": "1.2.0",
            "_model_name": "LayoutModel",
            "_view_count": null,
            "_view_module": "@jupyter-widgets/base",
            "_view_module_version": "1.2.0",
            "_view_name": "LayoutView",
            "align_content": null,
            "align_items": null,
            "align_self": null,
            "border": null,
            "bottom": null,
            "display": null,
            "flex": null,
            "flex_flow": null,
            "grid_area": null,
            "grid_auto_columns": null,
            "grid_auto_flow": null,
            "grid_auto_rows": null,
            "grid_column": null,
            "grid_gap": null,
            "grid_row": null,
            "grid_template_areas": null,
            "grid_template_columns": null,
            "grid_template_rows": null,
            "height": null,
            "justify_content": null,
            "justify_items": null,
            "left": null,
            "margin": null,
            "max_height": null,
            "max_width": null,
            "min_height": null,
            "min_width": null,
            "object_fit": null,
            "object_position": null,
            "order": null,
            "overflow": null,
            "overflow_x": null,
            "overflow_y": null,
            "padding": null,
            "right": null,
            "top": null,
            "visibility": null,
            "width": null
          }
        },
        "6b5a50db55564f23afc517b5647d4c0c": {
          "model_module": "@jupyter-widgets/controls",
          "model_name": "DescriptionStyleModel",
          "model_module_version": "1.5.0",
          "state": {
            "_model_module": "@jupyter-widgets/controls",
            "_model_module_version": "1.5.0",
            "_model_name": "DescriptionStyleModel",
            "_view_count": null,
            "_view_module": "@jupyter-widgets/base",
            "_view_module_version": "1.2.0",
            "_view_name": "StyleView",
            "description_width": ""
          }
        },
        "7c4fe3e249594a64ada3be20b077688b": {
          "model_module": "@jupyter-widgets/controls",
          "model_name": "HBoxModel",
          "model_module_version": "1.5.0",
          "state": {
            "_dom_classes": [],
            "_model_module": "@jupyter-widgets/controls",
            "_model_module_version": "1.5.0",
            "_model_name": "HBoxModel",
            "_view_count": null,
            "_view_module": "@jupyter-widgets/controls",
            "_view_module_version": "1.5.0",
            "_view_name": "HBoxView",
            "box_style": "",
            "children": [
              "IPY_MODEL_8978b27a664a48c48f5b0103ce9898d3",
              "IPY_MODEL_c28e328754fb4dc1973d932ce0381a81",
              "IPY_MODEL_3daac33b80104a12976a0fe03ed15191"
            ],
            "layout": "IPY_MODEL_9952668a5e9a4749a50840a0591e1052"
          }
        },
        "8978b27a664a48c48f5b0103ce9898d3": {
          "model_module": "@jupyter-widgets/controls",
          "model_name": "HTMLModel",
          "model_module_version": "1.5.0",
          "state": {
            "_dom_classes": [],
            "_model_module": "@jupyter-widgets/controls",
            "_model_module_version": "1.5.0",
            "_model_name": "HTMLModel",
            "_view_count": null,
            "_view_module": "@jupyter-widgets/controls",
            "_view_module_version": "1.5.0",
            "_view_name": "HTMLView",
            "description": "",
            "description_tooltip": null,
            "layout": "IPY_MODEL_6bea8e695f68462f8e4645bd76c82124",
            "placeholder": "​",
            "style": "IPY_MODEL_a35ee1933da04e4096d39ed4a0adb999",
            "value": "config.json: 100%"
          }
        },
        "c28e328754fb4dc1973d932ce0381a81": {
          "model_module": "@jupyter-widgets/controls",
          "model_name": "FloatProgressModel",
          "model_module_version": "1.5.0",
          "state": {
            "_dom_classes": [],
            "_model_module": "@jupyter-widgets/controls",
            "_model_module_version": "1.5.0",
            "_model_name": "FloatProgressModel",
            "_view_count": null,
            "_view_module": "@jupyter-widgets/controls",
            "_view_module_version": "1.5.0",
            "_view_name": "ProgressView",
            "bar_style": "success",
            "description": "",
            "description_tooltip": null,
            "layout": "IPY_MODEL_a6420e3fa4b8419681a6623bee3847c9",
            "max": 1805,
            "min": 0,
            "orientation": "horizontal",
            "style": "IPY_MODEL_683006826e7f4d938261378b75e87060",
            "value": 1805
          }
        },
        "3daac33b80104a12976a0fe03ed15191": {
          "model_module": "@jupyter-widgets/controls",
          "model_name": "HTMLModel",
          "model_module_version": "1.5.0",
          "state": {
            "_dom_classes": [],
            "_model_module": "@jupyter-widgets/controls",
            "_model_module_version": "1.5.0",
            "_model_name": "HTMLModel",
            "_view_count": null,
            "_view_module": "@jupyter-widgets/controls",
            "_view_module_version": "1.5.0",
            "_view_name": "HTMLView",
            "description": "",
            "description_tooltip": null,
            "layout": "IPY_MODEL_6a56010fb0934bcbba551f5b0ff5fbe1",
            "placeholder": "​",
            "style": "IPY_MODEL_b47500dbddfd445aa6ce10f3784793e6",
            "value": " 1.80k/1.80k [00:00&lt;00:00, 128kB/s]"
          }
        },
        "9952668a5e9a4749a50840a0591e1052": {
          "model_module": "@jupyter-widgets/base",
          "model_name": "LayoutModel",
          "model_module_version": "1.2.0",
          "state": {
            "_model_module": "@jupyter-widgets/base",
            "_model_module_version": "1.2.0",
            "_model_name": "LayoutModel",
            "_view_count": null,
            "_view_module": "@jupyter-widgets/base",
            "_view_module_version": "1.2.0",
            "_view_name": "LayoutView",
            "align_content": null,
            "align_items": null,
            "align_self": null,
            "border": null,
            "bottom": null,
            "display": null,
            "flex": null,
            "flex_flow": null,
            "grid_area": null,
            "grid_auto_columns": null,
            "grid_auto_flow": null,
            "grid_auto_rows": null,
            "grid_column": null,
            "grid_gap": null,
            "grid_row": null,
            "grid_template_areas": null,
            "grid_template_columns": null,
            "grid_template_rows": null,
            "height": null,
            "justify_content": null,
            "justify_items": null,
            "left": null,
            "margin": null,
            "max_height": null,
            "max_width": null,
            "min_height": null,
            "min_width": null,
            "object_fit": null,
            "object_position": null,
            "order": null,
            "overflow": null,
            "overflow_x": null,
            "overflow_y": null,
            "padding": null,
            "right": null,
            "top": null,
            "visibility": null,
            "width": null
          }
        },
        "6bea8e695f68462f8e4645bd76c82124": {
          "model_module": "@jupyter-widgets/base",
          "model_name": "LayoutModel",
          "model_module_version": "1.2.0",
          "state": {
            "_model_module": "@jupyter-widgets/base",
            "_model_module_version": "1.2.0",
            "_model_name": "LayoutModel",
            "_view_count": null,
            "_view_module": "@jupyter-widgets/base",
            "_view_module_version": "1.2.0",
            "_view_name": "LayoutView",
            "align_content": null,
            "align_items": null,
            "align_self": null,
            "border": null,
            "bottom": null,
            "display": null,
            "flex": null,
            "flex_flow": null,
            "grid_area": null,
            "grid_auto_columns": null,
            "grid_auto_flow": null,
            "grid_auto_rows": null,
            "grid_column": null,
            "grid_gap": null,
            "grid_row": null,
            "grid_template_areas": null,
            "grid_template_columns": null,
            "grid_template_rows": null,
            "height": null,
            "justify_content": null,
            "justify_items": null,
            "left": null,
            "margin": null,
            "max_height": null,
            "max_width": null,
            "min_height": null,
            "min_width": null,
            "object_fit": null,
            "object_position": null,
            "order": null,
            "overflow": null,
            "overflow_x": null,
            "overflow_y": null,
            "padding": null,
            "right": null,
            "top": null,
            "visibility": null,
            "width": null
          }
        },
        "a35ee1933da04e4096d39ed4a0adb999": {
          "model_module": "@jupyter-widgets/controls",
          "model_name": "DescriptionStyleModel",
          "model_module_version": "1.5.0",
          "state": {
            "_model_module": "@jupyter-widgets/controls",
            "_model_module_version": "1.5.0",
            "_model_name": "DescriptionStyleModel",
            "_view_count": null,
            "_view_module": "@jupyter-widgets/base",
            "_view_module_version": "1.2.0",
            "_view_name": "StyleView",
            "description_width": ""
          }
        },
        "a6420e3fa4b8419681a6623bee3847c9": {
          "model_module": "@jupyter-widgets/base",
          "model_name": "LayoutModel",
          "model_module_version": "1.2.0",
          "state": {
            "_model_module": "@jupyter-widgets/base",
            "_model_module_version": "1.2.0",
            "_model_name": "LayoutModel",
            "_view_count": null,
            "_view_module": "@jupyter-widgets/base",
            "_view_module_version": "1.2.0",
            "_view_name": "LayoutView",
            "align_content": null,
            "align_items": null,
            "align_self": null,
            "border": null,
            "bottom": null,
            "display": null,
            "flex": null,
            "flex_flow": null,
            "grid_area": null,
            "grid_auto_columns": null,
            "grid_auto_flow": null,
            "grid_auto_rows": null,
            "grid_column": null,
            "grid_gap": null,
            "grid_row": null,
            "grid_template_areas": null,
            "grid_template_columns": null,
            "grid_template_rows": null,
            "height": null,
            "justify_content": null,
            "justify_items": null,
            "left": null,
            "margin": null,
            "max_height": null,
            "max_width": null,
            "min_height": null,
            "min_width": null,
            "object_fit": null,
            "object_position": null,
            "order": null,
            "overflow": null,
            "overflow_x": null,
            "overflow_y": null,
            "padding": null,
            "right": null,
            "top": null,
            "visibility": null,
            "width": null
          }
        },
        "683006826e7f4d938261378b75e87060": {
          "model_module": "@jupyter-widgets/controls",
          "model_name": "ProgressStyleModel",
          "model_module_version": "1.5.0",
          "state": {
            "_model_module": "@jupyter-widgets/controls",
            "_model_module_version": "1.5.0",
            "_model_name": "ProgressStyleModel",
            "_view_count": null,
            "_view_module": "@jupyter-widgets/base",
            "_view_module_version": "1.2.0",
            "_view_name": "StyleView",
            "bar_color": null,
            "description_width": ""
          }
        },
        "6a56010fb0934bcbba551f5b0ff5fbe1": {
          "model_module": "@jupyter-widgets/base",
          "model_name": "LayoutModel",
          "model_module_version": "1.2.0",
          "state": {
            "_model_module": "@jupyter-widgets/base",
            "_model_module_version": "1.2.0",
            "_model_name": "LayoutModel",
            "_view_count": null,
            "_view_module": "@jupyter-widgets/base",
            "_view_module_version": "1.2.0",
            "_view_name": "LayoutView",
            "align_content": null,
            "align_items": null,
            "align_self": null,
            "border": null,
            "bottom": null,
            "display": null,
            "flex": null,
            "flex_flow": null,
            "grid_area": null,
            "grid_auto_columns": null,
            "grid_auto_flow": null,
            "grid_auto_rows": null,
            "grid_column": null,
            "grid_gap": null,
            "grid_row": null,
            "grid_template_areas": null,
            "grid_template_columns": null,
            "grid_template_rows": null,
            "height": null,
            "justify_content": null,
            "justify_items": null,
            "left": null,
            "margin": null,
            "max_height": null,
            "max_width": null,
            "min_height": null,
            "min_width": null,
            "object_fit": null,
            "object_position": null,
            "order": null,
            "overflow": null,
            "overflow_x": null,
            "overflow_y": null,
            "padding": null,
            "right": null,
            "top": null,
            "visibility": null,
            "width": null
          }
        },
        "b47500dbddfd445aa6ce10f3784793e6": {
          "model_module": "@jupyter-widgets/controls",
          "model_name": "DescriptionStyleModel",
          "model_module_version": "1.5.0",
          "state": {
            "_model_module": "@jupyter-widgets/controls",
            "_model_module_version": "1.5.0",
            "_model_name": "DescriptionStyleModel",
            "_view_count": null,
            "_view_module": "@jupyter-widgets/base",
            "_view_module_version": "1.2.0",
            "_view_name": "StyleView",
            "description_width": ""
          }
        },
        "51343824fe464d8b8b732a066abe8afc": {
          "model_module": "@jupyter-widgets/controls",
          "model_name": "HBoxModel",
          "model_module_version": "1.5.0",
          "state": {
            "_dom_classes": [],
            "_model_module": "@jupyter-widgets/controls",
            "_model_module_version": "1.5.0",
            "_model_name": "HBoxModel",
            "_view_count": null,
            "_view_module": "@jupyter-widgets/controls",
            "_view_module_version": "1.5.0",
            "_view_name": "HBoxView",
            "box_style": "",
            "children": [
              "IPY_MODEL_7cf23ec1a9504bd3984a7be6d85d7135",
              "IPY_MODEL_0119dd522fdb4400b381d5dd305bd996",
              "IPY_MODEL_1d0760196b914090a38f556b4e838ba6"
            ],
            "layout": "IPY_MODEL_648d1d13df754534b7a6fccbd8cd104c"
          }
        },
        "7cf23ec1a9504bd3984a7be6d85d7135": {
          "model_module": "@jupyter-widgets/controls",
          "model_name": "HTMLModel",
          "model_module_version": "1.5.0",
          "state": {
            "_dom_classes": [],
            "_model_module": "@jupyter-widgets/controls",
            "_model_module_version": "1.5.0",
            "_model_name": "HTMLModel",
            "_view_count": null,
            "_view_module": "@jupyter-widgets/controls",
            "_view_module_version": "1.5.0",
            "_view_name": "HTMLView",
            "description": "",
            "description_tooltip": null,
            "layout": "IPY_MODEL_8e2fc1659744435bbed865bea087bf4c",
            "placeholder": "​",
            "style": "IPY_MODEL_62821f9327da41dc86f91b08ae987e55",
            "value": "pytorch_model.bin: 100%"
          }
        },
        "0119dd522fdb4400b381d5dd305bd996": {
          "model_module": "@jupyter-widgets/controls",
          "model_name": "FloatProgressModel",
          "model_module_version": "1.5.0",
          "state": {
            "_dom_classes": [],
            "_model_module": "@jupyter-widgets/controls",
            "_model_module_version": "1.5.0",
            "_model_name": "FloatProgressModel",
            "_view_count": null,
            "_view_module": "@jupyter-widgets/controls",
            "_view_module_version": "1.5.0",
            "_view_name": "ProgressView",
            "bar_style": "success",
            "description": "",
            "description_tooltip": null,
            "layout": "IPY_MODEL_ea44018324234660a4d783afae99a4be",
            "max": 1262956405,
            "min": 0,
            "orientation": "horizontal",
            "style": "IPY_MODEL_a7e7f340d67e4ce79e303b05c36536f9",
            "value": 1262956405
          }
        },
        "1d0760196b914090a38f556b4e838ba6": {
          "model_module": "@jupyter-widgets/controls",
          "model_name": "HTMLModel",
          "model_module_version": "1.5.0",
          "state": {
            "_dom_classes": [],
            "_model_module": "@jupyter-widgets/controls",
            "_model_module_version": "1.5.0",
            "_model_name": "HTMLModel",
            "_view_count": null,
            "_view_module": "@jupyter-widgets/controls",
            "_view_module_version": "1.5.0",
            "_view_name": "HTMLView",
            "description": "",
            "description_tooltip": null,
            "layout": "IPY_MODEL_72e6c930c24f4891a46fe399c947ece4",
            "placeholder": "​",
            "style": "IPY_MODEL_e68c0402d86449699f662fba78e4b49f",
            "value": " 1.26G/1.26G [00:12&lt;00:00, 143MB/s]"
          }
        },
        "648d1d13df754534b7a6fccbd8cd104c": {
          "model_module": "@jupyter-widgets/base",
          "model_name": "LayoutModel",
          "model_module_version": "1.2.0",
          "state": {
            "_model_module": "@jupyter-widgets/base",
            "_model_module_version": "1.2.0",
            "_model_name": "LayoutModel",
            "_view_count": null,
            "_view_module": "@jupyter-widgets/base",
            "_view_module_version": "1.2.0",
            "_view_name": "LayoutView",
            "align_content": null,
            "align_items": null,
            "align_self": null,
            "border": null,
            "bottom": null,
            "display": null,
            "flex": null,
            "flex_flow": null,
            "grid_area": null,
            "grid_auto_columns": null,
            "grid_auto_flow": null,
            "grid_auto_rows": null,
            "grid_column": null,
            "grid_gap": null,
            "grid_row": null,
            "grid_template_areas": null,
            "grid_template_columns": null,
            "grid_template_rows": null,
            "height": null,
            "justify_content": null,
            "justify_items": null,
            "left": null,
            "margin": null,
            "max_height": null,
            "max_width": null,
            "min_height": null,
            "min_width": null,
            "object_fit": null,
            "object_position": null,
            "order": null,
            "overflow": null,
            "overflow_x": null,
            "overflow_y": null,
            "padding": null,
            "right": null,
            "top": null,
            "visibility": null,
            "width": null
          }
        },
        "8e2fc1659744435bbed865bea087bf4c": {
          "model_module": "@jupyter-widgets/base",
          "model_name": "LayoutModel",
          "model_module_version": "1.2.0",
          "state": {
            "_model_module": "@jupyter-widgets/base",
            "_model_module_version": "1.2.0",
            "_model_name": "LayoutModel",
            "_view_count": null,
            "_view_module": "@jupyter-widgets/base",
            "_view_module_version": "1.2.0",
            "_view_name": "LayoutView",
            "align_content": null,
            "align_items": null,
            "align_self": null,
            "border": null,
            "bottom": null,
            "display": null,
            "flex": null,
            "flex_flow": null,
            "grid_area": null,
            "grid_auto_columns": null,
            "grid_auto_flow": null,
            "grid_auto_rows": null,
            "grid_column": null,
            "grid_gap": null,
            "grid_row": null,
            "grid_template_areas": null,
            "grid_template_columns": null,
            "grid_template_rows": null,
            "height": null,
            "justify_content": null,
            "justify_items": null,
            "left": null,
            "margin": null,
            "max_height": null,
            "max_width": null,
            "min_height": null,
            "min_width": null,
            "object_fit": null,
            "object_position": null,
            "order": null,
            "overflow": null,
            "overflow_x": null,
            "overflow_y": null,
            "padding": null,
            "right": null,
            "top": null,
            "visibility": null,
            "width": null
          }
        },
        "62821f9327da41dc86f91b08ae987e55": {
          "model_module": "@jupyter-widgets/controls",
          "model_name": "DescriptionStyleModel",
          "model_module_version": "1.5.0",
          "state": {
            "_model_module": "@jupyter-widgets/controls",
            "_model_module_version": "1.5.0",
            "_model_name": "DescriptionStyleModel",
            "_view_count": null,
            "_view_module": "@jupyter-widgets/base",
            "_view_module_version": "1.2.0",
            "_view_name": "StyleView",
            "description_width": ""
          }
        },
        "ea44018324234660a4d783afae99a4be": {
          "model_module": "@jupyter-widgets/base",
          "model_name": "LayoutModel",
          "model_module_version": "1.2.0",
          "state": {
            "_model_module": "@jupyter-widgets/base",
            "_model_module_version": "1.2.0",
            "_model_name": "LayoutModel",
            "_view_count": null,
            "_view_module": "@jupyter-widgets/base",
            "_view_module_version": "1.2.0",
            "_view_name": "LayoutView",
            "align_content": null,
            "align_items": null,
            "align_self": null,
            "border": null,
            "bottom": null,
            "display": null,
            "flex": null,
            "flex_flow": null,
            "grid_area": null,
            "grid_auto_columns": null,
            "grid_auto_flow": null,
            "grid_auto_rows": null,
            "grid_column": null,
            "grid_gap": null,
            "grid_row": null,
            "grid_template_areas": null,
            "grid_template_columns": null,
            "grid_template_rows": null,
            "height": null,
            "justify_content": null,
            "justify_items": null,
            "left": null,
            "margin": null,
            "max_height": null,
            "max_width": null,
            "min_height": null,
            "min_width": null,
            "object_fit": null,
            "object_position": null,
            "order": null,
            "overflow": null,
            "overflow_x": null,
            "overflow_y": null,
            "padding": null,
            "right": null,
            "top": null,
            "visibility": null,
            "width": null
          }
        },
        "a7e7f340d67e4ce79e303b05c36536f9": {
          "model_module": "@jupyter-widgets/controls",
          "model_name": "ProgressStyleModel",
          "model_module_version": "1.5.0",
          "state": {
            "_model_module": "@jupyter-widgets/controls",
            "_model_module_version": "1.5.0",
            "_model_name": "ProgressStyleModel",
            "_view_count": null,
            "_view_module": "@jupyter-widgets/base",
            "_view_module_version": "1.2.0",
            "_view_name": "StyleView",
            "bar_color": null,
            "description_width": ""
          }
        },
        "72e6c930c24f4891a46fe399c947ece4": {
          "model_module": "@jupyter-widgets/base",
          "model_name": "LayoutModel",
          "model_module_version": "1.2.0",
          "state": {
            "_model_module": "@jupyter-widgets/base",
            "_model_module_version": "1.2.0",
            "_model_name": "LayoutModel",
            "_view_count": null,
            "_view_module": "@jupyter-widgets/base",
            "_view_module_version": "1.2.0",
            "_view_name": "LayoutView",
            "align_content": null,
            "align_items": null,
            "align_self": null,
            "border": null,
            "bottom": null,
            "display": null,
            "flex": null,
            "flex_flow": null,
            "grid_area": null,
            "grid_auto_columns": null,
            "grid_auto_flow": null,
            "grid_auto_rows": null,
            "grid_column": null,
            "grid_gap": null,
            "grid_row": null,
            "grid_template_areas": null,
            "grid_template_columns": null,
            "grid_template_rows": null,
            "height": null,
            "justify_content": null,
            "justify_items": null,
            "left": null,
            "margin": null,
            "max_height": null,
            "max_width": null,
            "min_height": null,
            "min_width": null,
            "object_fit": null,
            "object_position": null,
            "order": null,
            "overflow": null,
            "overflow_x": null,
            "overflow_y": null,
            "padding": null,
            "right": null,
            "top": null,
            "visibility": null,
            "width": null
          }
        },
        "e68c0402d86449699f662fba78e4b49f": {
          "model_module": "@jupyter-widgets/controls",
          "model_name": "DescriptionStyleModel",
          "model_module_version": "1.5.0",
          "state": {
            "_model_module": "@jupyter-widgets/controls",
            "_model_module_version": "1.5.0",
            "_model_name": "DescriptionStyleModel",
            "_view_count": null,
            "_view_module": "@jupyter-widgets/base",
            "_view_module_version": "1.2.0",
            "_view_name": "StyleView",
            "description_width": ""
          }
        }
      }
    }
  },
  "cells": [
    {
      "cell_type": "markdown",
      "metadata": {
        "id": "view-in-github",
        "colab_type": "text"
      },
      "source": [
        "<a href=\"https://colab.research.google.com/github/L-Gaysina/Emotion_recognithon/blob/main/Emotion_recognition.ipynb\" target=\"_parent\"><img src=\"https://colab.research.google.com/assets/colab-badge.svg\" alt=\"Open In Colab\"/></a>"
      ]
    },
    {
      "cell_type": "markdown",
      "source": [
        "# Сервис оценки эмоций пациента по тону голоса на приёме у врача\n",
        "<hr>\n",
        "\n",
        "\n",
        "Над проектом работали:\n",
        "Команда № 2 **'C.D.C'.**\n",
        "\n",
        "0. Кириленков Кирилл Владимирович\n",
        "\n",
        "0. Корзун Иван Анатольевич\n",
        "\n",
        "0. Хван Ок Хи\n",
        "\n",
        "0. Федеряев Клим Александрович\n",
        "\n",
        "0. Гайсина Лиана Ильдаровна\n",
        "\n",
        "\n",
        "\n",
        "\n",
        "<hr>\n"
      ],
      "metadata": {
        "id": "0vCgrp5F_HZ1"
      }
    },
    {
      "cell_type": "markdown",
      "source": [
        "\n",
        "Для более комфортной работы включите в блокноте GPU и запустите все ячейки с начала:\n",
        "\n",
        "```\n",
        "Среда выполнения > Сменить среду выполнения > Аппаратный ускоритель > GPU > Сохранить\n",
        "---\n",
        "Runtime > Change runtime type > Hardware accelerator > GPU > Save\n",
        "```"
      ],
      "metadata": {
        "id": "-g7pYQlmMqd7"
      }
    },
    {
      "cell_type": "code",
      "source": [
        "# Установка дополнительных модулей\n",
        "%pip install -q mplcyberpunk wave\n",
        "\n",
        "# Импорт дополнительных модулей\n",
        "import torch\n",
        "import matplotlib.pyplot as plt\n",
        "import mplcyberpunk\n",
        "import soundfile as sf\n",
        "from transformers import HubertForSequenceClassification, Wav2Vec2FeatureExtractor\n",
        "import torchaudio\n",
        "import wave\n",
        "import numpy as np"
      ],
      "metadata": {
        "id": "VMNwe7MjtYpc"
      },
      "execution_count": null,
      "outputs": []
    },
    {
      "cell_type": "code",
      "source": [
        "# @title Загрузите ваш речевой аудиофайл\n",
        "# @markdown ### Загружайте только аудио файлы в формате .wav или .ogg\n",
        "# @markdown ### не короче 15 секунд!\n",
        "# @markdown ########################################################\n",
        "# @markdown ### Быстро раздобыть файл формата .ogg для тестирования\n",
        "# @markdown ###  можно с помощью скачивания аудиосообщения из ТГ\n",
        "\n",
        "from google.colab import files\n",
        "result = files.upload()\n",
        "file_name, value = list(result.items())[0]\n",
        "\n",
        "# Если загрузился файл .ogg, то он будет переконвертирован в .wav\n",
        "\n",
        "if '.ogg' in file_name:\n",
        "    data, samplerate = sf.read(file_name)\n",
        "    file_name = file_name[0:-4] + '.wav'\n",
        "    sf.write(file_name, data, samplerate)\n",
        "    print(file_name)\n"
      ],
      "metadata": {
        "id": "cHdPP_VvU1mh",
        "colab": {
          "base_uri": "https://localhost:8080/",
          "height": 71
        },
        "outputId": "bb53d171-d616-4597-9860-13969afcd10d"
      },
      "execution_count": null,
      "outputs": [
        {
          "output_type": "display_data",
          "data": {
            "text/plain": [
              "<IPython.core.display.HTML object>"
            ],
            "text/html": [
              "\n",
              "     <input type=\"file\" id=\"files-163fbd15-0d84-42f2-8976-1a744230b06a\" name=\"files[]\" multiple disabled\n",
              "        style=\"border:none\" />\n",
              "     <output id=\"result-163fbd15-0d84-42f2-8976-1a744230b06a\">\n",
              "      Upload widget is only available when the cell has been executed in the\n",
              "      current browser session. Please rerun this cell to enable.\n",
              "      </output>\n",
              "      <script>// Copyright 2017 Google LLC\n",
              "//\n",
              "// Licensed under the Apache License, Version 2.0 (the \"License\");\n",
              "// you may not use this file except in compliance with the License.\n",
              "// You may obtain a copy of the License at\n",
              "//\n",
              "//      http://www.apache.org/licenses/LICENSE-2.0\n",
              "//\n",
              "// Unless required by applicable law or agreed to in writing, software\n",
              "// distributed under the License is distributed on an \"AS IS\" BASIS,\n",
              "// WITHOUT WARRANTIES OR CONDITIONS OF ANY KIND, either express or implied.\n",
              "// See the License for the specific language governing permissions and\n",
              "// limitations under the License.\n",
              "\n",
              "/**\n",
              " * @fileoverview Helpers for google.colab Python module.\n",
              " */\n",
              "(function(scope) {\n",
              "function span(text, styleAttributes = {}) {\n",
              "  const element = document.createElement('span');\n",
              "  element.textContent = text;\n",
              "  for (const key of Object.keys(styleAttributes)) {\n",
              "    element.style[key] = styleAttributes[key];\n",
              "  }\n",
              "  return element;\n",
              "}\n",
              "\n",
              "// Max number of bytes which will be uploaded at a time.\n",
              "const MAX_PAYLOAD_SIZE = 100 * 1024;\n",
              "\n",
              "function _uploadFiles(inputId, outputId) {\n",
              "  const steps = uploadFilesStep(inputId, outputId);\n",
              "  const outputElement = document.getElementById(outputId);\n",
              "  // Cache steps on the outputElement to make it available for the next call\n",
              "  // to uploadFilesContinue from Python.\n",
              "  outputElement.steps = steps;\n",
              "\n",
              "  return _uploadFilesContinue(outputId);\n",
              "}\n",
              "\n",
              "// This is roughly an async generator (not supported in the browser yet),\n",
              "// where there are multiple asynchronous steps and the Python side is going\n",
              "// to poll for completion of each step.\n",
              "// This uses a Promise to block the python side on completion of each step,\n",
              "// then passes the result of the previous step as the input to the next step.\n",
              "function _uploadFilesContinue(outputId) {\n",
              "  const outputElement = document.getElementById(outputId);\n",
              "  const steps = outputElement.steps;\n",
              "\n",
              "  const next = steps.next(outputElement.lastPromiseValue);\n",
              "  return Promise.resolve(next.value.promise).then((value) => {\n",
              "    // Cache the last promise value to make it available to the next\n",
              "    // step of the generator.\n",
              "    outputElement.lastPromiseValue = value;\n",
              "    return next.value.response;\n",
              "  });\n",
              "}\n",
              "\n",
              "/**\n",
              " * Generator function which is called between each async step of the upload\n",
              " * process.\n",
              " * @param {string} inputId Element ID of the input file picker element.\n",
              " * @param {string} outputId Element ID of the output display.\n",
              " * @return {!Iterable<!Object>} Iterable of next steps.\n",
              " */\n",
              "function* uploadFilesStep(inputId, outputId) {\n",
              "  const inputElement = document.getElementById(inputId);\n",
              "  inputElement.disabled = false;\n",
              "\n",
              "  const outputElement = document.getElementById(outputId);\n",
              "  outputElement.innerHTML = '';\n",
              "\n",
              "  const pickedPromise = new Promise((resolve) => {\n",
              "    inputElement.addEventListener('change', (e) => {\n",
              "      resolve(e.target.files);\n",
              "    });\n",
              "  });\n",
              "\n",
              "  const cancel = document.createElement('button');\n",
              "  inputElement.parentElement.appendChild(cancel);\n",
              "  cancel.textContent = 'Cancel upload';\n",
              "  const cancelPromise = new Promise((resolve) => {\n",
              "    cancel.onclick = () => {\n",
              "      resolve(null);\n",
              "    };\n",
              "  });\n",
              "\n",
              "  // Wait for the user to pick the files.\n",
              "  const files = yield {\n",
              "    promise: Promise.race([pickedPromise, cancelPromise]),\n",
              "    response: {\n",
              "      action: 'starting',\n",
              "    }\n",
              "  };\n",
              "\n",
              "  cancel.remove();\n",
              "\n",
              "  // Disable the input element since further picks are not allowed.\n",
              "  inputElement.disabled = true;\n",
              "\n",
              "  if (!files) {\n",
              "    return {\n",
              "      response: {\n",
              "        action: 'complete',\n",
              "      }\n",
              "    };\n",
              "  }\n",
              "\n",
              "  for (const file of files) {\n",
              "    const li = document.createElement('li');\n",
              "    li.append(span(file.name, {fontWeight: 'bold'}));\n",
              "    li.append(span(\n",
              "        `(${file.type || 'n/a'}) - ${file.size} bytes, ` +\n",
              "        `last modified: ${\n",
              "            file.lastModifiedDate ? file.lastModifiedDate.toLocaleDateString() :\n",
              "                                    'n/a'} - `));\n",
              "    const percent = span('0% done');\n",
              "    li.appendChild(percent);\n",
              "\n",
              "    outputElement.appendChild(li);\n",
              "\n",
              "    const fileDataPromise = new Promise((resolve) => {\n",
              "      const reader = new FileReader();\n",
              "      reader.onload = (e) => {\n",
              "        resolve(e.target.result);\n",
              "      };\n",
              "      reader.readAsArrayBuffer(file);\n",
              "    });\n",
              "    // Wait for the data to be ready.\n",
              "    let fileData = yield {\n",
              "      promise: fileDataPromise,\n",
              "      response: {\n",
              "        action: 'continue',\n",
              "      }\n",
              "    };\n",
              "\n",
              "    // Use a chunked sending to avoid message size limits. See b/62115660.\n",
              "    let position = 0;\n",
              "    do {\n",
              "      const length = Math.min(fileData.byteLength - position, MAX_PAYLOAD_SIZE);\n",
              "      const chunk = new Uint8Array(fileData, position, length);\n",
              "      position += length;\n",
              "\n",
              "      const base64 = btoa(String.fromCharCode.apply(null, chunk));\n",
              "      yield {\n",
              "        response: {\n",
              "          action: 'append',\n",
              "          file: file.name,\n",
              "          data: base64,\n",
              "        },\n",
              "      };\n",
              "\n",
              "      let percentDone = fileData.byteLength === 0 ?\n",
              "          100 :\n",
              "          Math.round((position / fileData.byteLength) * 100);\n",
              "      percent.textContent = `${percentDone}% done`;\n",
              "\n",
              "    } while (position < fileData.byteLength);\n",
              "  }\n",
              "\n",
              "  // All done.\n",
              "  yield {\n",
              "    response: {\n",
              "      action: 'complete',\n",
              "    }\n",
              "  };\n",
              "}\n",
              "\n",
              "scope.google = scope.google || {};\n",
              "scope.google.colab = scope.google.colab || {};\n",
              "scope.google.colab._files = {\n",
              "  _uploadFiles,\n",
              "  _uploadFilesContinue,\n",
              "};\n",
              "})(self);\n",
              "</script> "
            ]
          },
          "metadata": {}
        },
        {
          "output_type": "stream",
          "name": "stdout",
          "text": [
            "Saving instruction1.wav to instruction1.wav\n"
          ]
        }
      ]
    },
    {
      "cell_type": "code",
      "source": [
        "# @title Этот фрагмент кода разделяет исходный файл на N частей.\n",
        "# Количество сегментов\n",
        "N = 5\n",
        "\n",
        "def segmentator(N_segments: int, f_name: str):\n",
        "\n",
        "    with wave.open(f_name, \"rb\") as infile:\n",
        "            # get file data\n",
        "        nchannels = infile.getnchannels()\n",
        "        sampwidth = infile.getsampwidth()\n",
        "        framerate = infile.getframerate()\n",
        "        frames = infile.getnframes()\n",
        "        duration = frames / float(framerate)\n",
        "        print(f'Продолжительность загруженного файла: {round(duration, 2)} сек. \\n')\n",
        "        segment = duration / N\n",
        "        segments = [i * segment for i in range(N + 1)]\n",
        "\n",
        "        for i in range(len(segments) - 1):\n",
        "\n",
        "            # set position in wave to start of segment\n",
        "            infile.setpos(int(segments[i] * framerate))\n",
        "            # extract data\n",
        "            data = infile.readframes(int((segments[i + 1] - segments[i]) * framerate))\n",
        "\n",
        "            # write the extracted data to a new file\n",
        "            with wave.open(f'{i}_output.wav', 'w') as outfile:\n",
        "                outfile.setnchannels(nchannels)\n",
        "                outfile.setsampwidth(sampwidth)\n",
        "                outfile.setframerate(framerate)\n",
        "                outfile.setnframes(int(len(data) / sampwidth))\n",
        "                outfile.writeframes(data)\n",
        "                print(str(outfile))\n",
        "\n",
        "segmentator(N, file_name)"
      ],
      "metadata": {
        "id": "zxkxuMDX2bJU",
        "colab": {
          "base_uri": "https://localhost:8080/"
        },
        "outputId": "2367874f-ca88-4ade-f435-c8360e41b128"
      },
      "execution_count": null,
      "outputs": [
        {
          "output_type": "stream",
          "name": "stdout",
          "text": [
            "Продолжительность загруженного файла: 47.93 сек. \n",
            "\n",
            "<wave.Wave_write object at 0x7d5458c83040>\n",
            "<wave.Wave_write object at 0x7d5458c82560>\n",
            "<wave.Wave_write object at 0x7d5458c82b90>\n",
            "<wave.Wave_write object at 0x7d5458c83b50>\n",
            "<wave.Wave_write object at 0x7d5458c83040>\n"
          ]
        }
      ]
    },
    {
      "cell_type": "code",
      "source": [
        "# Загрузка в предобученной модели\n",
        "\n",
        "feature_extractor = Wav2Vec2FeatureExtractor.from_pretrained(\"facebook/hubert-large-ls960-ft\")\n",
        "model = HubertForSequenceClassification.from_pretrained(\"xbgoose/hubert-speech-emotion-recognition-russian-dusha-finetuned\")\n",
        "num2emotion = {0: 'neutral', 1: 'angry', 2: 'positive', 3: 'sad', 4: 'other'}"
      ],
      "metadata": {
        "colab": {
          "base_uri": "https://localhost:8080/",
          "height": 220,
          "referenced_widgets": [
            "cdb28b711e0a4b42be16d49d9659d234",
            "386a15c3230742d88775ab7ed2d23003",
            "0b8cf47d9d4343bf91dd67e0354ffd2a",
            "24104fecd5ed410da4cd3792f4fefa80",
            "53edbbb71acb4ecfb3b9da2714f28eae",
            "541dc9d055f247c4b9b07e3f18c6dbad",
            "58e1314109b443688ddac841f337f921",
            "bea2035fbc944f049bdef470c0ffa51d",
            "5ffcd0b595d44e66b9782e2013eaac02",
            "3ef4956285eb4f45a91347b497eee630",
            "6b5a50db55564f23afc517b5647d4c0c",
            "7c4fe3e249594a64ada3be20b077688b",
            "8978b27a664a48c48f5b0103ce9898d3",
            "c28e328754fb4dc1973d932ce0381a81",
            "3daac33b80104a12976a0fe03ed15191",
            "9952668a5e9a4749a50840a0591e1052",
            "6bea8e695f68462f8e4645bd76c82124",
            "a35ee1933da04e4096d39ed4a0adb999",
            "a6420e3fa4b8419681a6623bee3847c9",
            "683006826e7f4d938261378b75e87060",
            "6a56010fb0934bcbba551f5b0ff5fbe1",
            "b47500dbddfd445aa6ce10f3784793e6",
            "51343824fe464d8b8b732a066abe8afc",
            "7cf23ec1a9504bd3984a7be6d85d7135",
            "0119dd522fdb4400b381d5dd305bd996",
            "1d0760196b914090a38f556b4e838ba6",
            "648d1d13df754534b7a6fccbd8cd104c",
            "8e2fc1659744435bbed865bea087bf4c",
            "62821f9327da41dc86f91b08ae987e55",
            "ea44018324234660a4d783afae99a4be",
            "a7e7f340d67e4ce79e303b05c36536f9",
            "72e6c930c24f4891a46fe399c947ece4",
            "e68c0402d86449699f662fba78e4b49f"
          ]
        },
        "id": "JXF8UnwXizhg",
        "outputId": "f5d122f3-fbdf-441a-991c-0caa6509490d"
      },
      "execution_count": null,
      "outputs": [
        {
          "output_type": "display_data",
          "data": {
            "text/plain": [
              "preprocessor_config.json:   0%|          | 0.00/212 [00:00<?, ?B/s]"
            ],
            "application/vnd.jupyter.widget-view+json": {
              "version_major": 2,
              "version_minor": 0,
              "model_id": "cdb28b711e0a4b42be16d49d9659d234"
            }
          },
          "metadata": {}
        },
        {
          "output_type": "display_data",
          "data": {
            "text/plain": [
              "config.json:   0%|          | 0.00/1.80k [00:00<?, ?B/s]"
            ],
            "application/vnd.jupyter.widget-view+json": {
              "version_major": 2,
              "version_minor": 0,
              "model_id": "7c4fe3e249594a64ada3be20b077688b"
            }
          },
          "metadata": {}
        },
        {
          "output_type": "display_data",
          "data": {
            "text/plain": [
              "pytorch_model.bin:   0%|          | 0.00/1.26G [00:00<?, ?B/s]"
            ],
            "application/vnd.jupyter.widget-view+json": {
              "version_major": 2,
              "version_minor": 0,
              "model_id": "51343824fe464d8b8b732a066abe8afc"
            }
          },
          "metadata": {}
        },
        {
          "output_type": "stream",
          "name": "stderr",
          "text": [
            "Some weights of the model checkpoint at xbgoose/hubert-speech-emotion-recognition-russian-dusha-finetuned were not used when initializing HubertForSequenceClassification: ['hubert.encoder.pos_conv_embed.conv.weight_v', 'hubert.encoder.pos_conv_embed.conv.weight_g']\n",
            "- This IS expected if you are initializing HubertForSequenceClassification from the checkpoint of a model trained on another task or with another architecture (e.g. initializing a BertForSequenceClassification model from a BertForPreTraining model).\n",
            "- This IS NOT expected if you are initializing HubertForSequenceClassification from the checkpoint of a model that you expect to be exactly identical (initializing a BertForSequenceClassification model from a BertForSequenceClassification model).\n",
            "Some weights of HubertForSequenceClassification were not initialized from the model checkpoint at xbgoose/hubert-speech-emotion-recognition-russian-dusha-finetuned and are newly initialized: ['hubert.encoder.pos_conv_embed.conv.parametrizations.weight.original1', 'hubert.encoder.pos_conv_embed.conv.parametrizations.weight.original0']\n",
            "You should probably TRAIN this model on a down-stream task to be able to use it for predictions and inference.\n"
          ]
        }
      ]
    },
    {
      "cell_type": "code",
      "source": [
        "# Инициализация итогового словаря\n",
        "\n",
        "result_dict = {}\n",
        "\n",
        "# Обработка фрагметов загруженного файла в цикле с помощью модели\n",
        "\n",
        "print('Краткий вывод модели по каждому сегменту \\n')\n",
        "\n",
        "for i in range(N):\n",
        "\n",
        "    filepath = f'{i}_output.wav'\n",
        "    waveform, sample_rate = torchaudio.load(filepath, normalize=True)\n",
        "    transform = torchaudio.transforms.Resample(sample_rate, 16000)\n",
        "    waveform = transform(waveform)\n",
        "\n",
        "    inputs = feature_extractor(\n",
        "            waveform,\n",
        "            sampling_rate=feature_extractor.sampling_rate,\n",
        "            return_tensors=\"pt\",\n",
        "            padding=True,\n",
        "            max_length=16000 * 10,\n",
        "            truncation=True\n",
        "        )\n",
        "\n",
        "    logits = model(inputs['input_values'][0]).logits\n",
        "    del(inputs)\n",
        "    del(transform)\n",
        "    predictions = torch.argmax(logits, dim=1)\n",
        "    predicted_emotion = num2emotion[predictions.numpy()[0]]\n",
        "    print(f'segment {i} dominant emotion: ' + predicted_emotion)\n",
        "\n",
        "    # Инициализация внутреннего словаря\n",
        "    # и добавление его в итоговый словарь result_dict\n",
        "\n",
        "    result_dict[filepath] = {}\n",
        "    for num, emotion in num2emotion.items():\n",
        "        result_dict[filepath][emotion] = logits[0][num].item()"
      ],
      "metadata": {
        "colab": {
          "base_uri": "https://localhost:8080/"
        },
        "id": "sJFQdau7j2Vw",
        "outputId": "7b0c1a3f-d844-4edb-bfdf-58b247d19987"
      },
      "execution_count": null,
      "outputs": [
        {
          "output_type": "stream",
          "name": "stdout",
          "text": [
            "Краткий вывод модели по каждому сегменту \n",
            "\n",
            "segment 0 dominant emotion: neutral\n",
            "segment 1 dominant emotion: neutral\n",
            "segment 2 dominant emotion: neutral\n",
            "segment 3 dominant emotion: neutral\n",
            "segment 4 dominant emotion: neutral\n"
          ]
        }
      ]
    },
    {
      "cell_type": "code",
      "source": [
        "print(result_dict)"
      ],
      "metadata": {
        "colab": {
          "base_uri": "https://localhost:8080/"
        },
        "id": "bwhCMe-gclq9",
        "outputId": "ccefc7de-4268-4000-a1f1-ffac724cce3c"
      },
      "execution_count": null,
      "outputs": [
        {
          "output_type": "stream",
          "name": "stdout",
          "text": [
            "{'0_output.wav': {'neutral': 4.302017688751221, 'angry': -0.3316851258277893, 'positive': 1.937193751335144, 'sad': -3.812793493270874, 'other': -3.7984189987182617}, '1_output.wav': {'neutral': 4.502582550048828, 'angry': -1.0206730365753174, 'positive': 1.3206418752670288, 'sad': -2.6701061725616455, 'other': -4.0197906494140625}, '2_output.wav': {'neutral': 2.504694700241089, 'angry': 1.0109891891479492, 'positive': 1.6592084169387817, 'sad': -1.9862430095672607, 'other': -4.271965503692627}, '3_output.wav': {'neutral': 3.1593685150146484, 'angry': 2.495014190673828, 'positive': 0.18108198046684265, 'sad': -3.028146982192993, 'other': -3.863001823425293}, '4_output.wav': {'neutral': 3.950469970703125, 'angry': -0.24539382755756378, 'positive': 0.32094037532806396, 'sad': -1.18526291847229, 'other': -4.582486629486084}}\n"
          ]
        }
      ]
    },
    {
      "cell_type": "code",
      "source": [
        "# Отформатированный вывод итогового словаря c подробными\n",
        "# нормированными на 0 значениями\n",
        "print('Подробный вывод модели по каждому сегменту \\n')\n",
        "for k, v in result_dict.items():\n",
        "    print(f'{k}: {v}')"
      ],
      "metadata": {
        "colab": {
          "base_uri": "https://localhost:8080/"
        },
        "id": "XhCSsZleu8eZ",
        "outputId": "038a8dd8-2137-41b9-8aa8-d81497397610"
      },
      "execution_count": null,
      "outputs": [
        {
          "output_type": "stream",
          "name": "stdout",
          "text": [
            "Подробный вывод модели по каждому сегменту \n",
            "\n",
            "0_output.wav: {'neutral': 4.302017688751221, 'angry': -0.3316851258277893, 'positive': 1.937193751335144, 'sad': -3.812793493270874, 'other': -3.7984189987182617}\n",
            "1_output.wav: {'neutral': 4.502582550048828, 'angry': -1.0206730365753174, 'positive': 1.3206418752670288, 'sad': -2.6701061725616455, 'other': -4.0197906494140625}\n",
            "2_output.wav: {'neutral': 2.504694700241089, 'angry': 1.0109891891479492, 'positive': 1.6592084169387817, 'sad': -1.9862430095672607, 'other': -4.271965503692627}\n",
            "3_output.wav: {'neutral': 3.1593685150146484, 'angry': 2.495014190673828, 'positive': 0.18108198046684265, 'sad': -3.028146982192993, 'other': -3.863001823425293}\n",
            "4_output.wav: {'neutral': 3.950469970703125, 'angry': -0.24539382755756378, 'positive': 0.32094037532806396, 'sad': -1.18526291847229, 'other': -4.582486629486084}\n"
          ]
        }
      ]
    },
    {
      "cell_type": "markdown",
      "source": [
        "# Обработка результатов и визуализация"
      ],
      "metadata": {
        "id": "vqHr81GLx3L_"
      }
    },
    {
      "cell_type": "code",
      "source": [
        "# @title Классификация эмоций за все время. Суммирует все эмоции на всех фрагментах исходного файла\n",
        "# Создаем словарь для подсчета эмоций\n",
        "emotion_counts = {'positive': 0, 'sad': 0, 'angry': 0, 'neutral': 0, 'other': 0}\n",
        "\n",
        "# Подсчитываем количество каждой эмоции\n",
        "for res in result_dict.values():\n",
        "    for emotion, value in res.items():\n",
        "        if emotion in ['positive']:\n",
        "            emotion_counts['positive'] += value\n",
        "        elif emotion in [ 'sad']:\n",
        "            emotion_counts['sad'] += value\n",
        "        elif emotion == 'angry':\n",
        "            emotion_counts['angry'] += value\n",
        "        elif emotion == 'neutral':\n",
        "            emotion_counts['neutral'] += value\n",
        "        elif emotion == 'other':\n",
        "            emotion_counts['other'] += value\n",
        "\n",
        "# Создаем списки для графика\n",
        "emotions = list(emotion_counts.keys())\n",
        "counts = list(emotion_counts.values())\n",
        "\n",
        "# Определяем цвета для каждой эмоции\n",
        "color_mapping = {\n",
        "    'angry': '#FF0000',\n",
        "    'positive': '#FF1493',\n",
        "    'other': '#8B008B',\n",
        "    'neutral': '#00FFFF',\n",
        "    'sad': '#0000FF'\n",
        "}\n",
        "\n",
        "# Список цветов для графика\n",
        "colors = [color_mapping[emotion] for emotion in emotions]\n",
        "\n",
        "# Используем стиль 'cyberpunk' для графика\n",
        "plt.style.use('cyberpunk')\n",
        "bars = plt.bar(emotions, counts, color=colors)\n",
        "mplcyberpunk.add_bar_gradient(bars=bars)\n",
        "\n",
        "# Добавляем линии координатной оси x\n",
        "plt.axhline(0, color='white', linewidth=0.5)\n",
        "\n",
        "# Устанавливаем заголовок графика\n",
        "plt.title('Классификация эмоций за все время')\n",
        "\n",
        "# Отображаем график\n",
        "plt.show()"
      ],
      "metadata": {
        "colab": {
          "base_uri": "https://localhost:8080/",
          "height": 446
        },
        "id": "uCltXZPS4lb_",
        "outputId": "8306f4c3-424c-4aef-9884-77523d36693b"
      },
      "execution_count": null,
      "outputs": [
        {
          "output_type": "display_data",
          "data": {
            "text/plain": [
              "<Figure size 640x480 with 1 Axes>"
            ],
            "image/png": "[encoded data removed]"
          },
          "metadata": {}
        }
      ]
    },
    {
      "cell_type": "code",
      "source": [
        "# @title График эмоциональной динамики по фрагментам аудио файла Вариант 1\n",
        "segments = []\n",
        "emotions = list(result_dict[list(result_dict.keys())[0]].keys())\n",
        "emotion_levels = [[] for _ in range(len(emotions))]\n",
        "\n",
        "for segment, emotions_dict in result_dict.items():\n",
        "    segments.append(segment)\n",
        "\n",
        "    for j, emotion in enumerate(emotions):\n",
        "        emotion_levels[j].append(emotions_dict[emotion])\n",
        "\n",
        "# Создание графика\n",
        "plt.style.use('cyberpunk')\n",
        "\n",
        "fig, ax = plt.subplots(figsize=(10, 6))\n",
        "\n",
        "# Создание словаря с цветами для каждой эмоции\n",
        "color_mapping = {\n",
        "    'angry': '#FF0000',\n",
        "    'positive': '#FF1493',\n",
        "    'other': '#8B008B',\n",
        "    'neutral': '#00FFFF',\n",
        "    'sad': '#0000FF'\n",
        "}\n",
        "\n",
        "# Рассчитываем ширину столбцов и смещение для каждой эмоции\n",
        "num_emotions = len(emotions)\n",
        "bar_width = 0.15\n",
        "index = np.arange(len(segments))\n",
        "opacity = 0.8\n",
        "\n",
        "# Создание группированного графика гистограмм\n",
        "for i in range(num_emotions):\n",
        "    offset = i * bar_width - (bar_width * (num_emotions - 1)) / 2\n",
        "\n",
        "    rect = ax.bar(index + offset, emotion_levels[i], bar_width,\n",
        "                  alpha=opacity,\n",
        "                  color=color_mapping[emotions[i]],  # Использование цвета из словаря color_mapping\n",
        "                  label=emotions[i])\n",
        "\n",
        "# Настройка осей и меток\n",
        "ax.set_xlabel('Сегменты')\n",
        "ax.set_ylabel('Уровень эмоций')\n",
        "ax.set_title('Уровень эмоций по сегментам')\n",
        "ax.set_xticks(index)\n",
        "ax.set_xticklabels(segments)\n",
        "ax.legend()\n",
        "\n",
        "# Добавляем градиент на столбцы\n",
        "for container in ax.containers:\n",
        "    mplcyberpunk.add_bar_gradient(bars=container)\n",
        "# Добавляем линии координатной оси x\n",
        "plt.axhline(0, color='white', linewidth=0.5)\n",
        "\n",
        "plt.tight_layout()\n",
        "plt.show()"
      ],
      "metadata": {
        "colab": {
          "base_uri": "https://localhost:8080/",
          "height": 607
        },
        "id": "znKfi7jntkSc",
        "outputId": "c4e622f9-5ea7-423d-9e5a-593fdd11f035"
      },
      "execution_count": null,
      "outputs": [
        {
          "output_type": "display_data",
          "data": {
            "text/plain": [
              "<Figure size 1000x600 with 1 Axes>"
            ],
            "image/png": "[encoded data removed]"
          },
          "metadata": {}
        }
      ]
    },
    {
      "cell_type": "code",
      "source": [
        "# @title График эмоциональной динамики по фрагментам аудио файла Вариант 2\n",
        "segments = []\n",
        "emotions = list(result_dict[list(result_dict.keys())[0]].keys())\n",
        "emotion_levels = [[] for _ in range(len(emotions))]\n",
        "\n",
        "segments = list(result_dict.keys())\n",
        "\n",
        "for segment, emotions_dict in result_dict.items():\n",
        "    for j, emotion in enumerate(emotions):\n",
        "        emotion_levels[j].append(emotions_dict[emotion])\n",
        "\n",
        "# Создание графика\n",
        "plt.style.use('cyberpunk')\n",
        "\n",
        "fig, ax = plt.subplots(figsize=(10, 6))\n",
        "\n",
        "# Создание словаря с цветами для каждой эмоции\n",
        "color_mapping = {\n",
        "    'angry': '#FF0000',\n",
        "    'positive': '#FF1493',\n",
        "    'other': '#8B008B',\n",
        "    'neutral': '#00FFFF',\n",
        "    'sad': '#0000FF'\n",
        "}\n",
        "\n",
        "# Построение графика эмоций в зависимости от времени\n",
        "for i, emotion in enumerate(emotions):\n",
        "    ax.plot(segments, emotion_levels[i], color=color_mapping[emotion], label=emotion)\n",
        "\n",
        "# Настройка осей и меток\n",
        "ax.set_xlabel('Сегменты')\n",
        "ax.set_ylabel('Уровни эмоций')\n",
        "ax.set_title('Уровни эмоций в зависимости от времени')\n",
        "ax.legend(loc='upper right')\n",
        "\n",
        "# Добавление линии оси x\n",
        "plt.axhline(0, color='white', linewidth=0.5)\n",
        "mplcyberpunk.add_glow_effects()\n",
        "plt.tight_layout()\n",
        "plt.show()"
      ],
      "metadata": {
        "colab": {
          "base_uri": "https://localhost:8080/",
          "height": 607
        },
        "id": "cPI5UALswqD9",
        "outputId": "5ad195dd-db38-45aa-b4de-4768f889f97d"
      },
      "execution_count": null,
      "outputs": [
        {
          "output_type": "display_data",
          "data": {
            "text/plain": [
              "<Figure size 1000x600 with 1 Axes>"
            ],
            "image/png": "[encoded data removed]"
          },
          "metadata": {}
        }
      ]
    },
    {
      "cell_type": "code",
      "source": [
        "# @title  \"Топ-3 Эмоции\" для каждого фрагмента записи отдельно\n",
        "\n",
        "for key, value in result_dict.items():\n",
        "    # Получаем эмоции и вероятности из словаря результатов\n",
        "    emotions, probabilities = zip(*value.items())\n",
        "\n",
        "    # Сортируем эмоции по убыванию вероятностей\n",
        "    sorted_emotions = [emotion for _, emotion in sorted(zip(probabilities, emotions), reverse=True)]\n",
        "    sorted_probabilities = sorted(probabilities, reverse=True)\n",
        "\n",
        "    # Выбираем три наибольших значения эмоций\n",
        "    top_emotions = sorted_emotions[:3]\n",
        "    top_probabilities = sorted_probabilities[:3]\n",
        "\n",
        "    # Построим гистограмму\n",
        "    # Создаем словарь с соответствием цветов эмоциям\n",
        "    color_mapping = {\n",
        "        'angry': '#FF0000',\n",
        "        'positive': '#FF1493',\n",
        "        'other': '#8B008B',\n",
        "        'neutral': '#00FFFF',\n",
        "        'sad': '#0000FF'\n",
        "    }\n",
        "\n",
        "    # Получаем список цветов для каждой эмоции из топ-3\n",
        "    colors = [color_mapping[emotion] for emotion in top_emotions]\n",
        "\n",
        "    # Используем стиль 'cyberpunk' для графика\n",
        "    plt.style.use('cyberpunk')\n",
        "    bars = plt.bar(range(len(top_emotions)), top_probabilities, color=colors)\n",
        "    mplcyberpunk.add_bar_gradient(bars=bars)\n",
        "\n",
        "    # Устанавливаем заголовок графика\n",
        "    plt.title(f'Топ 3 эмоции - {key}')\n",
        "\n",
        "    # Устанавливаем подписи осей x\n",
        "    plt.xticks(range(len(top_emotions)), top_emotions)\n",
        "\n",
        "    # Добавляем линию координатной оси x\n",
        "    plt.axhline(0, color='white', linewidth=0.5)\n",
        "\n",
        "    # Отображаем график\n",
        "    plt.show()\n",
        "    print()"
      ],
      "metadata": {
        "id": "ixpUsHb6GXzy",
        "colab": {
          "base_uri": "https://localhost:8080/",
          "height": 1000
        },
        "outputId": "6ceacb93-1b78-4890-9db3-d2a29bce2e76"
      },
      "execution_count": null,
      "outputs": [
        {
          "output_type": "display_data",
          "data": {
            "text/plain": [
              "<Figure size 640x480 with 1 Axes>"
            ],
            "image/png": "[encoded data removed]"
          },
          "metadata": {}
        },
        {
          "output_type": "stream",
          "name": "stdout",
          "text": [
            "\n"
          ]
        },
        {
          "output_type": "display_data",
          "data": {
            "text/plain": [
              "<Figure size 640x480 with 1 Axes>"
            ],
            "image/png": "[encoded data removed]"
          },
          "metadata": {}
        },
        {
          "output_type": "stream",
          "name": "stdout",
          "text": [
            "\n"
          ]
        },
        {
          "output_type": "display_data",
          "data": {
            "text/plain": [
              "<Figure size 640x480 with 1 Axes>"
            ],
            "image/png": "[encoded data removed]"
          },
          "metadata": {}
        },
        {
          "output_type": "stream",
          "name": "stdout",
          "text": [
            "\n"
          ]
        },
        {
          "output_type": "display_data",
          "data": {
            "text/plain": [
              "<Figure size 640x480 with 1 Axes>"
            ],
            "image/png": "[encoded data removed]"
          },
          "metadata": {}
        },
        {
          "output_type": "stream",
          "name": "stdout",
          "text": [
            "\n"
          ]
        },
        {
          "output_type": "display_data",
          "data": {
            "text/plain": [
              "<Figure size 640x480 with 1 Axes>"
            ],
            "image/png": "[encoded data removed]"
          },
          "metadata": {}
        },
        {
          "output_type": "stream",
          "name": "stdout",
          "text": [
            "\n"
          ]
        }
      ]
    }
  ]
}